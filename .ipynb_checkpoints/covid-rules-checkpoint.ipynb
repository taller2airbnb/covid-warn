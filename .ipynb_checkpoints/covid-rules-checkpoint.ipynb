{
 "cells": [
  {
   "cell_type": "code",
   "execution_count": 1,
   "metadata": {},
   "outputs": [],
   "source": [
    "import requests\n",
    "import datetime\n",
    "\n",
    "def populate_list(number_days_window):\n",
    "    populated_list = []\n",
    "    #all_days = requests.get('https://api.covid19api.com/dayone/country/argentina/status/confirmed/live')\n",
    "    #all_days = requests.get('https://api.covid19api.com/dayone/country/argentina/status/confirmed/live', verify=False)\n",
    "    all_days = requests.get('https://api.covid19api.com/total/country/argentina')\n",
    "    first=True\n",
    "    for day in all_days.json():\n",
    "        date_time_obj = datetime.datetime.strptime(day['Date'][:10], '%Y-%m-%d')\n",
    "        if first:\n",
    "            ordinal_first = date_time_obj.toordinal()\n",
    "        n = date_time_obj.toordinal() - ordinal_first\n",
    "        delta = 0\n",
    "        fatality_rate = 0\n",
    "        if n>number_days_window:\n",
    "            delta = day['Confirmed'] - populated_list[n-number_days_window][1] \n",
    "        first=False\n",
    "        if day['Confirmed'] > 0:\n",
    "            fatality_rate = day['Deaths']/day['Confirmed']\n",
    "        populated_list.append((n, day['Active'], day['Confirmed'], delta, fatality_rate, date_time_obj))\n",
    "    return populated_list"
   ]
  },
  {
   "cell_type": "code",
   "execution_count": 4,
   "metadata": {},
   "outputs": [],
   "source": [
    "import pandas as pd\n",
    "import numpy as np\n",
    "\n",
    "# Si fatality rate sube, se esta subtesteando, hay mas casos de lo que se cree.\n",
    "# jump days cada cuantos dias sacas una foto (mirando pa atras)\n",
    "\n",
    "def process_means(number_days_window, jump_days, total_jumps):\n",
    "    my_populated_list = populate_list(number_days_window)\n",
    "    means_list = []\n",
    "    fatality_rate = []\n",
    "    active_cases = []\n",
    "    total_lapse_day = jump_days * total_jumps\n",
    "    df = pd.DataFrame (my_populated_list,columns=['day-number', 'active', 'cases-count','delta', 'fatality_rate','date'])\n",
    "    \n",
    "    for n in range(total_lapse_day,0,-jump_days):\n",
    "        try:\n",
    "            mean = round(df[-(n):-(n-(jump_days))]['delta'].mean())\n",
    "            active = round(df[-(n):-(n-(jump_days))]['active'].mean())\n",
    "        except:\n",
    "            mean = round(df[-(n):-(n-(jump_days-1))]['delta'].mean())\n",
    "            active = round(df[-(n):-(n-(jump_days-1))]['active'].mean())\n",
    "        means_list.append(mean)\n",
    "        fatality_rate.append(df[-n:-(n-1)]['fatality_rate'].mean())\n",
    "        active_cases.append(active)\n",
    "    return means_list, fatality_rate, active_cases\n",
    "\n"
   ]
  },
  {
   "cell_type": "code",
   "execution_count": 5,
   "metadata": {},
   "outputs": [
    {
     "name": "stdout",
     "output_type": "stream",
     "text": [
      "[1083119, 1190760, 1298079, 1389986, 1498215]\n",
      "LinregressResult(slope=102941.8, intercept=1086148.2, rvalue=0.9996533868810759, pvalue=7.746022794812858e-06, stderr=1565.2422006406546)\n",
      "[0.026567282873606164, 0.027058365508266877, 0.027113823295303794, 0.027209919430055626, 0.026928903664589072]\n",
      "LinregressResult(slope=8.747955037545636e-05, intercept=0.026800699853613393, rvalue=0.5535296862023505, pvalue=0.333082024493269, stderr=7.599080925902197e-05)\n",
      "[152320, 140754, 128735, 130997, 146477]\n",
      "LinregressResult(slope=-2144.3, intercept=144145.2, rvalue=-0.3381344532020535, pvalue=0.577824659146769, stderr=3445.6428345569034)\n",
      "...----...\n",
      "[1062476, 1204866, 1311938, 1404275, 1499274]\n",
      "LinregressResult(slope=107300.5, intercept=1081964.8, rvalue=0.995680580680094, pvalue=0.0003405574005428768, stderr=5776.692901363788)\n",
      "[0.026567282873606164, 0.027058365508266877, 0.027113823295303794, 0.027209919430055626, 0.026928903664589072]\n",
      "LinregressResult(slope=8.747955037545636e-05, intercept=0.026800699853613393, rvalue=0.5535296862023505, pvalue=0.333082024493269, stderr=7.599080925902197e-05)\n",
      "[152320, 140754, 128735, 130997, 146477]\n",
      "LinregressResult(slope=-2144.3, intercept=144145.2, rvalue=-0.3381344532020535, pvalue=0.577824659146769, stderr=3445.6428345569034)\n",
      "...----...\n",
      "[1064548, 1207998, 1316297, 1406348, 1495084]\n",
      "LinregressResult(slope=105942.20000000001, intercept=1086170.6, rvalue=0.9943511292386618, pvalue=0.0005092229665336885, stderr=6529.053386211412)\n",
      "[0.026567282873606164, 0.027058365508266877, 0.027113823295303794, 0.027209919430055626, 0.026928903664589072]\n",
      "LinregressResult(slope=8.747955037545636e-05, intercept=0.026800699853613393, rvalue=0.5535296862023505, pvalue=0.333082024493269, stderr=7.599080925902197e-05)\n",
      "[152320, 140754, 128735, 130997, 146477]\n",
      "LinregressResult(slope=-2144.3, intercept=144145.2, rvalue=-0.3381344532020535, pvalue=0.577824659146769, stderr=3445.6428345569034)\n",
      "...----...\n",
      "[1068415, 1209926, 1318928, 1406955, 1491473]\n",
      "LinregressResult(slope=104314.5, intercept=1090510.4, rvalue=0.993693240804792, pvalue=0.0006006644871672634, stderr=6796.166504483776)\n",
      "[0.026567282873606164, 0.027058365508266877, 0.027113823295303794, 0.027209919430055626, 0.026928903664589072]\n",
      "LinregressResult(slope=8.747955037545636e-05, intercept=0.026800699853613393, rvalue=0.5535296862023505, pvalue=0.333082024493269, stderr=7.599080925902197e-05)\n",
      "[152320, 140754, 128735, 130997, 146477]\n",
      "LinregressResult(slope=-2144.3, intercept=144145.2, rvalue=-0.3381344532020535, pvalue=0.577824659146769, stderr=3445.6428345569034)\n",
      "...----...\n",
      "[1071457, 1211055, 1320359, 1406680, 1488392]\n",
      "LinregressResult(slope=102949.5, intercept=1093689.6, rvalue=0.9932615492495093, pvalue=0.000663337405448059, stderr=6935.250696502101)\n",
      "[0.026567282873606164, 0.027058365508266877, 0.027113823295303794, 0.027209919430055626, 0.026928903664589072]\n",
      "LinregressResult(slope=8.747955037545636e-05, intercept=0.026800699853613393, rvalue=0.5535296862023505, pvalue=0.333082024493269, stderr=7.599080925902197e-05)\n",
      "[152320, 140754, 128735, 130997, 146477]\n",
      "LinregressResult(slope=-2144.3, intercept=144145.2, rvalue=-0.3381344532020535, pvalue=0.577824659146769, stderr=3445.6428345569034)\n",
      "...----...\n"
     ]
    }
   ],
   "source": [
    "total_jumps = 5\n",
    "a = range(total_jumps)\n",
    "\n",
    "#print(process_means(30,14,total_jumps))\n",
    "\n",
    "#means_list, fatality_rate, active_cases = process_means(30,14,total_jumps)\n",
    "from scipy.stats import linregress\n",
    "for params in [process_means(30,14,total_jumps), process_means(14,14,total_jumps), process_means(10,14,total_jumps), process_means(7,14,total_jumps), process_means(5,14,total_jumps)]:\n",
    "    means_list, fatality_rate, active_cases = params\n",
    "    for result in [means_list, fatality_rate, active_cases]:\n",
    "        print(result)\n",
    "        print(linregress(a, result))\n",
    "    print (\"...----...\")"
   ]
  },
  {
   "cell_type": "markdown",
   "metadata": {},
   "source": [
    "# Algunas reglas\n",
    "\n",
    "Si fatality_rate > fatality_rate_mean:\n",
    "    Yellow Warning Casos pueden ser mayor de lo reflejado pues pueden que estén subtesteando.\n",
    "\n",
    "Si fatality_rate > fatality_rate_mean y active_cases y means_list en crecimiento:\n",
    "\n",
    "    Rojo Warning \n",
    "\n",
    "means_list, fatality_rate, active_cases\n"
   ]
  },
  {
   "cell_type": "code",
   "execution_count": 4,
   "metadata": {},
   "outputs": [
    {
     "name": "stdout",
     "output_type": "stream",
     "text": [
      "Be cautious because light is blinking-yellow\n"
     ]
    }
   ],
   "source": [
    "from random import choice\n",
    "from experta import *\n",
    "\n",
    "\n",
    "class Light(Fact):\n",
    "    \"\"\"Info about the traffic light.\"\"\"\n",
    "    pass\n",
    "\n",
    "\n",
    "class RobotCrossStreet(KnowledgeEngine):\n",
    "    @Rule(Light(color='green'))\n",
    "    def green_light(self):\n",
    "        print(\"Walk\")\n",
    "\n",
    "    @Rule(Light(color='red'))\n",
    "    def red_light(self):\n",
    "        print(\"Don't walk\")\n",
    "\n",
    "    @Rule(AS.light << Light(color=L('yellow') | L('blinking-yellow')))\n",
    "    def cautious(self, light):\n",
    "        print(\"Be cautious because light is\", light[\"color\"])\n",
    "\n",
    "\n",
    "engine1 = RobotCrossStreet()\n",
    "engine1.reset()\n",
    "engine1.declare(Light(color=choice(['green', 'yellow', 'blinking-yellow', 'red'])))\n",
    "engine1.run()\n"
   ]
  }
 ],
 "metadata": {
  "kernelspec": {
   "display_name": "Python 3",
   "language": "python",
   "name": "python3"
  },
  "language_info": {
   "codemirror_mode": {
    "name": "ipython",
    "version": 3
   },
   "file_extension": ".py",
   "mimetype": "text/x-python",
   "name": "python",
   "nbconvert_exporter": "python",
   "pygments_lexer": "ipython3",
   "version": "3.6.9"
  }
 },
 "nbformat": 4,
 "nbformat_minor": 4
}
