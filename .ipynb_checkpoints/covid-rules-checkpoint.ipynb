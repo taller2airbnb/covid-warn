{
 "cells": [
  {
   "cell_type": "code",
   "execution_count": 48,
   "metadata": {},
   "outputs": [],
   "source": [
    "import requests\n",
    "import datetime\n",
    "\n",
    "def populate_list(number_days_window):\n",
    "    populated_list = []\n",
    "    #all_days = requests.get('https://api.covid19api.com/dayone/country/argentina/status/confirmed/live')\n",
    "    #all_days = requests.get('https://api.covid19api.com/dayone/country/argentina/status/confirmed/live', verify=False)\n",
    "    all_days = requests.get('https://api.covid19api.com/total/country/argentina')\n",
    "    first=True\n",
    "    for day in all_days.json():\n",
    "        date_time_obj = datetime.datetime.strptime(day['Date'][:10], '%Y-%m-%d')\n",
    "        if first:\n",
    "            ordinal_first = date_time_obj.toordinal()\n",
    "        n = date_time_obj.toordinal() - ordinal_first\n",
    "        delta = 0\n",
    "        fatality_rate = 0\n",
    "        if n>number_days_window:\n",
    "            delta = day['Confirmed'] - populated_list[n-number_days_window][1] \n",
    "        first=False\n",
    "        if day['Confirmed'] > 0:\n",
    "            fatality_rate = day['Deaths']/day['Confirmed']\n",
    "        populated_list.append((n, day['Active'], day['Confirmed'], delta, fatality_rate, date_time_obj))\n",
    "    return populated_list"
   ]
  },
  {
   "cell_type": "code",
   "execution_count": 36,
   "metadata": {},
   "outputs": [],
   "source": [
    "import pandas as pd\n",
    "import numpy as np\n",
    "\n",
    "# Si fatality rate sube, se esta subtesteando, hay mas casos de lo que se cree.\n",
    "\n",
    "def process_means(number_days_window, jump_days, total_lapse_day):\n",
    "    my_populated_list = populate_list(number_days_window)\n",
    "    means_list = []\n",
    "    fatality_rate = []\n",
    "    active_cases = []\n",
    "\n",
    "    df = pd.DataFrame (my_populated_list,columns=['day-number', 'active', 'cases-count','delta', 'fatality_rate','date'])\n",
    "    \n",
    "    for n in range(total_lapse_day,0,-jump_days):\n",
    "        try:\n",
    "            mean = round(df[-(n):-(n-(jump_days))]['delta'].mean())\n",
    "            active = round(df[-(n):-(n-(jump_days))]['active'].mean())\n",
    "        except:\n",
    "            mean = round(df[-(n):-(n-(jump_days-1))]['delta'].mean())\n",
    "            active = round(df[-(n):-(n-(jump_days-1))]['active'].mean())\n",
    "        means_list.append(mean)\n",
    "        fatality_rate.append(df[-n:-(n-1)]['fatality_rate'].mean())\n",
    "        active_cases.append(active)\n",
    "    return means_list, fatality_rate, active_cases\n",
    "\n"
   ]
  },
  {
   "cell_type": "code",
   "execution_count": 45,
   "metadata": {},
   "outputs": [
    {
     "name": "stdout",
     "output_type": "stream",
     "text": [
      "[1065444, 1176682, 1284054, 1375623, 1479228]\n",
      "LinregressResult(slope=102650.90000000001, intercept=1070904.4, rvalue=0.9994460538180151, pvalue=1.5649451764737468e-05, stderr=1973.4739986463608)\n",
      "[0.026614792795943348, 0.027077840031949702, 0.02711173326873565, 0.027277400864651306, 0.0270573227228693]\n",
      "LinregressResult(slope=0.000108462068655351, intercept=0.026810893799519155, rvalue=0.6953612113665375, pvalue=0.19235170831815573, stderr=6.471880891532188e-05)\n",
      "[154612, 143024, 130242, 128312, 143853]\n",
      "LinregressResult(slope=-3623.0, intercept=147254.6, rvalue=-0.5288469182843798, pvalue=0.3595077561200439, stderr=3356.9181163680473)\n",
      "...----...\n",
      "[1043357, 1186444, 1297894, 1390848, 1483833]\n",
      "LinregressResult(slope=108535.6, intercept=1063404.0, rvalue=0.9953337595066747, pvalue=0.0003823669289569103, stderr=6074.830766367023)\n",
      "[0.026614792795943348, 0.027077840031949702, 0.02711173326873565, 0.027277400864651306, 0.0270573227228693]\n",
      "LinregressResult(slope=0.000108462068655351, intercept=0.026810893799519155, rvalue=0.6953612113665375, pvalue=0.19235170831815573, stderr=6.471880891532188e-05)\n",
      "[154612, 143024, 130242, 128312, 143853]\n",
      "LinregressResult(slope=-3623.0, intercept=147254.6, rvalue=-0.5288469182843798, pvalue=0.3595077561200439, stderr=3356.9181163680473)\n",
      "...----...\n",
      "[1042640, 1190375, 1302554, 1393556, 1479020]\n",
      "LinregressResult(slope=107594.1, intercept=1066440.8, rvalue=0.9931312925988433, pvalue=0.0006826505114254079, stderr=7318.576646452502)\n",
      "[0.026614792795943348, 0.027077840031949702, 0.02711173326873565, 0.027277400864651306, 0.0270573227228693]\n",
      "LinregressResult(slope=0.000108462068655351, intercept=0.026810893799519155, rvalue=0.6953612113665375, pvalue=0.19235170831815573, stderr=6.471880891532188e-05)\n",
      "[154612, 143024, 130242, 128312, 143853]\n",
      "LinregressResult(slope=-3623.0, intercept=147254.6, rvalue=-0.5288469182843798, pvalue=0.3595077561200439, stderr=3356.9181163680473)\n",
      "...----...\n",
      "[1045520, 1192529, 1305518, 1394772, 1476757]\n",
      "LinregressResult(slope=106471.70000000001, intercept=1070075.7999999998, rvalue=0.9923207482523517, pvalue=0.0008068844101029332, stderr=7662.325029867403)\n",
      "[0.026614792795943348, 0.027077840031949702, 0.02711173326873565, 0.027277400864651306, 0.0270573227228693]\n",
      "LinregressResult(slope=0.000108462068655351, intercept=0.026810893799519155, rvalue=0.6953612113665375, pvalue=0.19235170831815573, stderr=6.471880891532188e-05)\n",
      "[154612, 143024, 130242, 128312, 143853]\n",
      "LinregressResult(slope=-3623.0, intercept=147254.6, rvalue=-0.5288469182843798, pvalue=0.3595077561200439, stderr=3356.9181163680473)\n",
      "...----...\n",
      "[1048421, 1193797, 1307154, 1395036, 1473953]\n",
      "LinregressResult(slope=105230.3, intercept=1073211.5999999999, rvalue=0.9917649027223193, pvalue=0.0008959829845497519, stderr=7845.576303242492)\n",
      "[0.026614792795943348, 0.027077840031949702, 0.02711173326873565, 0.027277400864651306, 0.0270573227228693]\n",
      "LinregressResult(slope=0.000108462068655351, intercept=0.026810893799519155, rvalue=0.6953612113665375, pvalue=0.19235170831815573, stderr=6.471880891532188e-05)\n",
      "[154612, 143024, 130242, 128312, 143853]\n",
      "LinregressResult(slope=-3623.0, intercept=147254.6, rvalue=-0.5288469182843798, pvalue=0.3595077561200439, stderr=3356.9181163680473)\n",
      "...----...\n"
     ]
    }
   ],
   "source": [
    "a = range(5)\n",
    "\n",
    "#print(process_means(30,14,70))\n",
    "\n",
    "#means_list, fatality_rate, active_cases = process_means(30,14,70)\n",
    "from scipy.stats import linregress\n",
    "for params in [process_means(30,14,70), process_means(14,14,70), process_means(10,14,70), process_means(7,14,70), process_means(5,14,70)]:\n",
    "    means_list, fatality_rate, active_cases = params\n",
    "    for result in [means_list, fatality_rate, active_cases]:\n",
    "        print(result)\n",
    "        print(linregress(a, result))\n",
    "    print (\"...----...\")"
   ]
  },
  {
   "cell_type": "markdown",
   "metadata": {},
   "source": [
    "Si fatality_rate > fatality_rate_mean:\n",
    "    Yellow Warning Casos pueden ser mayor de lo reflejado pues pueden que estén subtesteando.\n",
    "\n",
    "Si fatality_rate > fatality_rate_mean y active_cases y means_list en crecimiento:\n",
    "\n",
    "    Rojo Warning \n",
    "\n",
    "means_list, fatality_rate, active_cases\n"
   ]
  },
  {
   "cell_type": "code",
   "execution_count": 4,
   "metadata": {},
   "outputs": [
    {
     "name": "stdout",
     "output_type": "stream",
     "text": [
      "Be cautious because light is blinking-yellow\n"
     ]
    }
   ],
   "source": [
    "from random import choice\n",
    "from experta import *\n",
    "\n",
    "\n",
    "class Light(Fact):\n",
    "    \"\"\"Info about the traffic light.\"\"\"\n",
    "    pass\n",
    "\n",
    "\n",
    "class RobotCrossStreet(KnowledgeEngine):\n",
    "    @Rule(Light(color='green'))\n",
    "    def green_light(self):\n",
    "        print(\"Walk\")\n",
    "\n",
    "    @Rule(Light(color='red'))\n",
    "    def red_light(self):\n",
    "        print(\"Don't walk\")\n",
    "\n",
    "    @Rule(AS.light << Light(color=L('yellow') | L('blinking-yellow')))\n",
    "    def cautious(self, light):\n",
    "        print(\"Be cautious because light is\", light[\"color\"])\n",
    "\n",
    "\n",
    "engine1 = RobotCrossStreet()\n",
    "engine1.reset()\n",
    "engine1.declare(Light(color=choice(['green', 'yellow', 'blinking-yellow', 'red'])))\n",
    "engine1.run()\n"
   ]
  }
 ],
 "metadata": {
  "kernelspec": {
   "display_name": "Python 3",
   "language": "python",
   "name": "python3"
  },
  "language_info": {
   "codemirror_mode": {
    "name": "ipython",
    "version": 3
   },
   "file_extension": ".py",
   "mimetype": "text/x-python",
   "name": "python",
   "nbconvert_exporter": "python",
   "pygments_lexer": "ipython3",
   "version": "3.6.9"
  }
 },
 "nbformat": 4,
 "nbformat_minor": 4
}
