{
 "cells": [
  {
   "cell_type": "code",
   "execution_count": 110,
   "metadata": {},
   "outputs": [],
   "source": [
    "import requests\n",
    "import datetime\n",
    "\n",
    "def populate_list(number_days_window):\n",
    "    populated_list = []\n",
    "    all_days = requests.get('https://api.covid19api.com/dayone/country/israel/status/confirmed/live')\n",
    "    #all_days = requests.get('https://api.covid19api.com/dayone/country/argentina/status/confirmed/live', verify=False)\n",
    "    first=True\n",
    "    for day in all_days.json():\n",
    "        date_time_obj = datetime.datetime.strptime(day['Date'][:10], '%Y-%m-%d')\n",
    "        if first:\n",
    "            ordinal_first = date_time_obj.toordinal()\n",
    "        n = date_time_obj.toordinal() - ordinal_first\n",
    "        delta = 0\n",
    "        if n>number_days_window:\n",
    "            delta = day['Cases'] - populated_list[n-number_days_window][1] \n",
    "        first=False\n",
    "        populated_list.append((n,day['Cases'], delta, date_time_obj))\n",
    "    return populated_list"
   ]
  },
  {
   "cell_type": "code",
   "execution_count": 111,
   "metadata": {},
   "outputs": [
    {
     "name": "stdout",
     "output_type": "stream",
     "text": [
      "[88856, 33061, 21106, 27822, 48792]\n",
      "LinregressResult(slope=-8536.699999999999, intercept=61000.8, rvalue=-0.4978262373274369, pvalue=0.3934008687256611, stderr=8586.364807647064)\n",
      "[18476, 9304, 10166, 16357, 31143]\n",
      "LinregressResult(slope=3238.7000000000003, intercept=10611.8, rvalue=0.5830919417892946, pvalue=0.3021139052493986, stderr=2605.2311855188586)\n",
      "[10783, 6443, 7532, 12624, 24574]\n",
      "LinregressResult(slope=3376.3, intercept=5638.6, rvalue=0.73667430662305, pvalue=0.15564257317915853, stderr=1789.4134038840773)\n",
      "[6583, 4477, 5459, 9421, 18406]\n",
      "LinregressResult(slope=2859.0, intercept=3151.2000000000007, rvalue=0.8009860526918378, pvalue=0.10333557615081423, stderr=1233.7452843543788)\n",
      "[4344, 3214, 3998, 7016, 13949]\n",
      "LinregressResult(slope=2301.2000000000003, intercept=1901.7999999999993, rvalue=0.8268293528688193, pvalue=0.08422280251798327, stderr=903.7826139804489)\n"
     ]
    }
   ],
   "source": [
    "import pandas as pd\n",
    "import numpy as np\n",
    "\n",
    "\n",
    "def process_means(number_days_window, jump_days, total_lapse_day):\n",
    "    my_populated_list = populate_list(number_days_window)\n",
    "    means_list = []\n",
    "\n",
    "    df = pd.DataFrame (my_populated_list,columns=['day-number','cases-count','delta','date'])\n",
    "    \n",
    "    for n in range(total_lapse_day,0,-jump_days):\n",
    "        try:\n",
    "            mean = round(df[-(n):-(n-(jump_days))]['delta'].mean())\n",
    "        except:\n",
    "            mean = round(df[-(n):-(n-(jump_days-1))]['delta'].mean())\n",
    "        means_list.append(mean)\n",
    "    return means_list\n",
    "\n",
    "a = range(5)\n",
    "\n",
    "print(process_means(30,14,70))\n",
    "\n",
    "b = process_means(30,14,70)\n",
    "from scipy.stats import linregress\n",
    "print(linregress(a, b))\n",
    "\n",
    "print(process_means(14,14,70))\n",
    "\n",
    "b = process_means(14,14,70)\n",
    "from scipy.stats import linregress\n",
    "print(linregress(a, b))\n",
    "\n",
    "print(process_means(10,14,70))\n",
    "\n",
    "b = process_means(10,14,70)\n",
    "from scipy.stats import linregress\n",
    "print(linregress(a, b))\n",
    "\n",
    "print(process_means(7,14,70))\n",
    "\n",
    "b = process_means(7,14,70)\n",
    "from scipy.stats import linregress\n",
    "print(linregress(a, b))\n",
    "\n",
    "print(process_means(5,14,70))\n",
    "\n",
    "b = process_means(5,14,70)\n",
    "from scipy.stats import linregress\n",
    "print(linregress(a, b))"
   ]
  },
  {
   "cell_type": "code",
   "execution_count": 4,
   "metadata": {},
   "outputs": [
    {
     "name": "stdout",
     "output_type": "stream",
     "text": [
      "Be cautious because light is blinking-yellow\n"
     ]
    }
   ],
   "source": [
    "from random import choice\n",
    "from experta import *\n",
    "\n",
    "\n",
    "class Light(Fact):\n",
    "    \"\"\"Info about the traffic light.\"\"\"\n",
    "    pass\n",
    "\n",
    "\n",
    "class RobotCrossStreet(KnowledgeEngine):\n",
    "    @Rule(Light(color='green'))\n",
    "    def green_light(self):\n",
    "        print(\"Walk\")\n",
    "\n",
    "    @Rule(Light(color='red'))\n",
    "    def red_light(self):\n",
    "        print(\"Don't walk\")\n",
    "\n",
    "    @Rule(AS.light << Light(color=L('yellow') | L('blinking-yellow')))\n",
    "    def cautious(self, light):\n",
    "        print(\"Be cautious because light is\", light[\"color\"])\n",
    "\n",
    "\n",
    "engine1 = RobotCrossStreet()\n",
    "engine1.reset()\n",
    "engine1.declare(Light(color=choice(['green', 'yellow', 'blinking-yellow', 'red'])))\n",
    "engine1.run()\n"
   ]
  }
 ],
 "metadata": {
  "kernelspec": {
   "display_name": "Python 3",
   "language": "python",
   "name": "python3"
  },
  "language_info": {
   "codemirror_mode": {
    "name": "ipython",
    "version": 3
   },
   "file_extension": ".py",
   "mimetype": "text/x-python",
   "name": "python",
   "nbconvert_exporter": "python",
   "pygments_lexer": "ipython3",
   "version": "3.6.9"
  }
 },
 "nbformat": 4,
 "nbformat_minor": 4
}
