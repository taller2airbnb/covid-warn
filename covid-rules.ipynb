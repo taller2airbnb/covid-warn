{
 "cells": [
  {
   "cell_type": "code",
   "execution_count": 1,
   "metadata": {},
   "outputs": [],
   "source": [
    "import requests\n",
    "import datetime\n",
    "\n",
    "def populate_list(number_days_window):\n",
    "    populated_list = []\n",
    "    #all_days = requests.get('https://api.covid19api.com/dayone/country/argentina/status/confirmed/live')\n",
    "    #all_days = requests.get('https://api.covid19api.com/dayone/country/argentina/status/confirmed/live', verify=False)\n",
    "    all_days = requests.get('https://api.covid19api.com/total/country/argentina')\n",
    "    first=True\n",
    "    for day in all_days.json():\n",
    "        date_time_obj = datetime.datetime.strptime(day['Date'][:10], '%Y-%m-%d')\n",
    "        if first:\n",
    "            ordinal_first = date_time_obj.toordinal()\n",
    "        n = date_time_obj.toordinal() - ordinal_first\n",
    "        delta = 0\n",
    "        fatality_rate = 0\n",
    "        if n>number_days_window:\n",
    "            delta = day['Confirmed'] - populated_list[n-number_days_window][1] \n",
    "        first=False\n",
    "        if day['Confirmed'] > 0:\n",
    "            fatality_rate = day['Deaths']/day['Confirmed']\n",
    "        populated_list.append((n, day['Active'], day['Confirmed'], delta, fatality_rate, date_time_obj))\n",
    "    return populated_list"
   ]
  },
  {
   "cell_type": "code",
   "execution_count": 4,
   "metadata": {},
   "outputs": [],
   "source": [
    "import pandas as pd\n",
    "import numpy as np\n",
    "\n",
    "# Si fatality rate sube, se esta subtesteando, hay mas casos de lo que se cree.\n",
    "# jump days cada cuantos dias sacas una foto (mirando pa atras)\n",
    "\n",
    "def process_means(number_days_window, jump_days, total_jumps):\n",
    "    my_populated_list = populate_list(number_days_window)\n",
    "    means_list = []\n",
    "    fatality_rate = []\n",
    "    active_cases = []\n",
    "    total_lapse_day = jump_days * total_jumps\n",
    "    df = pd.DataFrame (my_populated_list,columns=['day-number', 'active', 'cases-count','delta', 'fatality_rate','date'])\n",
    "    \n",
    "    for n in range(total_lapse_day,0,-jump_days):\n",
    "        try:\n",
    "            mean = round(df[-(n):-(n-(jump_days))]['delta'].mean())\n",
    "            active = round(df[-(n):-(n-(jump_days))]['active'].mean())\n",
    "        except:\n",
    "            mean = round(df[-(n):-(n-(jump_days-1))]['delta'].mean())\n",
    "            active = round(df[-(n):-(n-(jump_days-1))]['active'].mean())\n",
    "        means_list.append(mean)\n",
    "        fatality_rate.append(df[-n:-(n-1)]['fatality_rate'].mean())\n",
    "        active_cases.append(active)\n",
    "    return means_list, fatality_rate, active_cases\n",
    "\n"
   ]
  },
  {
   "cell_type": "code",
   "execution_count": 6,
   "metadata": {},
   "outputs": [
    {
     "name": "stdout",
     "output_type": "stream",
     "text": [
      "[1298079, 1389986, 1498215]\n",
      "LinregressResult(slope=100068.0, intercept=1295358.6666666667, rvalue=0.998893315927466, pvalue=0.029953461026538918, stderr=4711.755546856499)\n",
      "[0.027113823295303794, 0.027209919430055626, 0.026928903664589072]\n",
      "LinregressResult(slope=-9.245981535736107e-05, intercept=0.027176675278673523, rvalue=-0.6473492547820558, pvalue=0.5517550677621113, stderr=0.00010886282855284805)\n",
      "[128735, 130997, 146477]\n",
      "LinregressResult(slope=8871.0, intercept=126532.0, rvalue=0.9186249156838107, pvalue=0.2586013919587784, stderr=3815.707929074236)\n",
      "...----...\n",
      "[1311938, 1404275, 1499274]\n",
      "LinregressResult(slope=93668.0, intercept=1311494.3333333333, rvalue=0.9999663488086744, pvalue=0.005222717805116478, stderr=768.4532082889356)\n",
      "[0.027113823295303794, 0.027209919430055626, 0.026928903664589072]\n",
      "LinregressResult(slope=-9.245981535736107e-05, intercept=0.027176675278673523, rvalue=-0.6473492547820558, pvalue=0.5517550677621113, stderr=0.00010886282855284805)\n",
      "[128735, 130997, 146477]\n",
      "LinregressResult(slope=8871.0, intercept=126532.0, rvalue=0.9186249156838107, pvalue=0.2586013919587784, stderr=3815.707929074236)\n",
      "...----...\n",
      "[1316297, 1406348, 1495084]\n",
      "LinregressResult(slope=89393.5, intercept=1316516.1666666667, rvalue=0.999990983821368, pvalue=0.002703377537361862, stderr=379.60780198913636)\n",
      "[0.027113823295303794, 0.027209919430055626, 0.026928903664589072]\n",
      "LinregressResult(slope=-9.245981535736107e-05, intercept=0.027176675278673523, rvalue=-0.6473492547820558, pvalue=0.5517550677621113, stderr=0.00010886282855284805)\n",
      "[128735, 130997, 146477]\n",
      "LinregressResult(slope=8871.0, intercept=126532.0, rvalue=0.9186249156838107, pvalue=0.2586013919587784, stderr=3815.707929074236)\n",
      "...----...\n",
      "[1318928, 1406955, 1491473]\n",
      "LinregressResult(slope=86272.5, intercept=1319512.8333333333, rvalue=0.9999310767374432, pvalue=0.007474472162689514, stderr=1012.9610472933987)\n",
      "[0.027113823295303794, 0.027209919430055626, 0.026928903664589072]\n",
      "LinregressResult(slope=-9.245981535736107e-05, intercept=0.027176675278673523, rvalue=-0.6473492547820558, pvalue=0.5517550677621113, stderr=0.00010886282855284805)\n",
      "[128735, 130997, 146477]\n",
      "LinregressResult(slope=8871.0, intercept=126532.0, rvalue=0.9186249156838107, pvalue=0.2586013919587784, stderr=3815.707929074236)\n",
      "...----...\n",
      "[1320359, 1406680, 1488392]\n",
      "LinregressResult(slope=84016.5, intercept=1321127.1666666667, rvalue=0.9998746306637126, pvalue=0.010080807496525356, stderr=1330.5036953469246)\n",
      "[0.027113823295303794, 0.027209919430055626, 0.026928903664589072]\n",
      "LinregressResult(slope=-9.245981535736107e-05, intercept=0.027176675278673523, rvalue=-0.6473492547820558, pvalue=0.5517550677621113, stderr=0.00010886282855284805)\n",
      "[128735, 130997, 146477]\n",
      "LinregressResult(slope=8871.0, intercept=126532.0, rvalue=0.9186249156838107, pvalue=0.2586013919587784, stderr=3815.707929074236)\n",
      "...----...\n"
     ]
    }
   ],
   "source": [
    "total_jumps = 3\n",
    "a = range(total_jumps)\n",
    "\n",
    "#print(process_means(30,14,total_jumps))\n",
    "\n",
    "#means_list, fatality_rate, active_cases = process_means(30,14,total_jumps)\n",
    "from scipy.stats import linregress\n",
    "for params in [process_means(30,14,total_jumps), process_means(14,14,total_jumps), process_means(10,14,total_jumps), process_means(7,14,total_jumps), process_means(5,14,total_jumps)]:\n",
    "    means_list, fatality_rate, active_cases = params\n",
    "    for result in [means_list, fatality_rate, active_cases]:\n",
    "        print(result)\n",
    "        print(linregress(a, result))\n",
    "    print (\"...----...\")"
   ]
  },
  {
   "cell_type": "markdown",
   "metadata": {},
   "source": [
    "# Algunas reglas\n",
    "\n",
    "Si fatality_rate > fatality_rate_mean:\n",
    "    Yellow Warning Casos pueden ser mayor de lo reflejado pues pueden que estén subtesteando.\n",
    "\n",
    "Si fatality_rate > fatality_rate_mean y active_cases y means_list en crecimiento:\n",
    "\n",
    "    Rojo Warning \n",
    "\n",
    "means_list, fatality_rate, active_cases\n"
   ]
  },
  {
   "cell_type": "code",
   "execution_count": 4,
   "metadata": {},
   "outputs": [
    {
     "name": "stdout",
     "output_type": "stream",
     "text": [
      "Be cautious because light is blinking-yellow\n"
     ]
    }
   ],
   "source": [
    "from random import choice\n",
    "from experta import *\n",
    "\n",
    "\n",
    "class Light(Fact):\n",
    "    \"\"\"Info about the traffic light.\"\"\"\n",
    "    pass\n",
    "\n",
    "\n",
    "class RobotCrossStreet(KnowledgeEngine):\n",
    "    @Rule(Light(color='green'))\n",
    "    def green_light(self):\n",
    "        print(\"Walk\")\n",
    "\n",
    "    @Rule(Light(color='red'))\n",
    "    def red_light(self):\n",
    "        print(\"Don't walk\")\n",
    "\n",
    "    @Rule(AS.light << Light(color=L('yellow') | L('blinking-yellow')))\n",
    "    def cautious(self, light):\n",
    "        print(\"Be cautious because light is\", light[\"color\"])\n",
    "\n",
    "\n",
    "engine1 = RobotCrossStreet()\n",
    "engine1.reset()\n",
    "engine1.declare(Light(color=choice(['green', 'yellow', 'blinking-yellow', 'red'])))\n",
    "engine1.run()\n"
   ]
  }
 ],
 "metadata": {
  "kernelspec": {
   "display_name": "Python 3",
   "language": "python",
   "name": "python3"
  },
  "language_info": {
   "codemirror_mode": {
    "name": "ipython",
    "version": 3
   },
   "file_extension": ".py",
   "mimetype": "text/x-python",
   "name": "python",
   "nbconvert_exporter": "python",
   "pygments_lexer": "ipython3",
   "version": "3.6.9"
  }
 },
 "nbformat": 4,
 "nbformat_minor": 4
}
